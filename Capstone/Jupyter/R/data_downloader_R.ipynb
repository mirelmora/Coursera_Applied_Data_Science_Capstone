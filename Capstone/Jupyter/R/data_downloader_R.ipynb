{
 "cells": [
  {
   "cell_type": "markdown",
   "metadata": {},
   "source": [
    "<img src='logo.png' width=\"200\" height=\"200\" align=\"right\">\n",
    "\n",
    "# Capstone IBM - Pollution in London"
   ]
  },
  {
   "cell_type": "markdown",
   "metadata": {},
   "source": [
    "<h2 align=left><font size = 3>Introduction - Date description</font></h2>"
   ]
  },
  {
   "cell_type": "markdown",
   "metadata": {},
   "source": [
    "The data has been collected from London Air via the <a href=\"https://davidcarslaw.github.io/openair\">Openair</a> project tools. Openair is an R package developed for the purpose of analysing air quality data — or more generally atmospheric composition data. The package is extensively used in academia, the public and private sectors."
   ]
  },
  {
   "cell_type": "markdown",
   "metadata": {},
   "source": [
    "<h2 align=left><font size = 3>The openair package</font></h2>"
   ]
  },
  {
   "cell_type": "markdown",
   "metadata": {},
   "source": [
    "Install packages and libraries. "
   ]
  },
  {
   "cell_type": "code",
   "execution_count": null,
   "metadata": {},
   "outputs": [],
   "source": [
    "install_github('davidcarslaw/openair')\n",
    "install.packages(\"plyr\", dependencies=T)\n",
    "require(devtools)\n",
    "require(\"plyr\")\n",
    "library(openair)\n",
    "library(tidyverse)"
   ]
  },
  {
   "cell_type": "markdown",
   "metadata": {},
   "source": [
    "For this project download all data for Greater London. First one, download all the station in UK from 2019 to 2020 and save it as a .csv."
   ]
  },
  {
   "cell_type": "code",
   "execution_count": null,
   "metadata": {},
   "outputs": [],
   "source": [
    "## Import the location of station in UK\n",
    "uk_locations <- importMeta(source = \"aurn\")\n",
    "\n",
    "df_uk <- data.frame()\n",
    "for (code in uk_locations$code){\n",
    "  df_uk.aux <- importAURN(site = code, year = 2019:2020)\n",
    "  df_uk <- rbind.fill(df_uk, df_uk.aux)\n",
    "}\n",
    "# Download UK dataset as csv\n",
    "write.csv(df_uk,file = \"C:\\\\Users\\\\mirel\\\\OneDrive\\\\Documents\\\\02_Courses\\\\Coursera\\\\Capstone_IBM\\\\Data\\\\df_uk.csv\")\n",
    "write.csv(uk_locations,file = \"C:\\\\Users\\\\mirel\\\\OneDrive\\\\Documents\\\\02_Courses\\\\Coursera\\\\Capstone_IBM\\\\Data\\\\uk_locations.csv\")\n"
   ]
  },
  {
   "cell_type": "markdown",
   "metadata": {},
   "source": [
    "Also, download all stations in England because this data can have station in Greater London. This date are similar to the first step. "
   ]
  },
  {
   "cell_type": "code",
   "execution_count": null,
   "metadata": {},
   "outputs": [],
   "source": [
    "## Import the location of station in England \n",
    "england_locations <- importMeta(source = \"aqe\")\n",
    "\n",
    "df_england <- data.frame()\n",
    "\n",
    "for (code in england_locations$code){\n",
    "  df_england.aux <- importAQE(site = code, year = 2019:2020)\n",
    "  df_england <- rbind.fill(df_england, df_england.aux)\n",
    "}\n",
    "# Download England dataset as a csv\n",
    "write.csv(df_england,file = \"C:\\\\Users\\\\mirel\\\\OneDrive\\\\Documents\\\\02_Courses\\\\Coursera\\\\Capstone_IBM\\\\Data\\\\df_england.csv\")\n",
    "write.csv(england_locations,file = \"C:\\\\Users\\\\mirel\\\\OneDrive\\\\Documents\\\\02_Courses\\\\Coursera\\\\Capstone_IBM\\\\Data\\\\england_locations.csv\")"
   ]
  },
  {
   "cell_type": "code",
   "execution_count": null,
   "metadata": {},
   "outputs": [],
   "source": [
    "Finally, download all the station from London network."
   ]
  },
  {
   "cell_type": "code",
   "execution_count": null,
   "metadata": {},
   "outputs": [],
   "source": [
    "## Import the location of station in England \n",
    "london_locations <- importMeta(source = \"KCL\")\n",
    "\n",
    "df_london <- data.frame()\n",
    "\n",
    "for (code in london_locations$code){\n",
    "  df_london.aux <- importKCL(site = code, year = 2019:2020)\n",
    "  df_london <- rbind.fill(df_london, df_london.aux)\n",
    "}\n",
    "# Download England dataset as a csv\n",
    "write.csv(df_london,file = \"C:\\\\Users\\\\mirel\\\\OneDrive\\\\Documents\\\\02_Courses\\\\Coursera\\\\Capstone_IBM\\\\Data\\\\df_london.csv\")\n",
    "write.csv(london_locations,file = \"C:\\\\Users\\\\mirel\\\\OneDrive\\\\Documents\\\\02_Courses\\\\Coursera\\\\Capstone_IBM\\\\Data\\\\london_locations.csv\")"
   ]
  },
  {
   "cell_type": "markdown",
   "metadata": {},
   "source": [
    "Those data are save as csv to work with them in Python. "
   ]
  }
 ],
 "metadata": {
  "kernelspec": {
   "display_name": "R",
   "language": "R",
   "name": "ir"
  },
  "language_info": {
   "codemirror_mode": "r",
   "file_extension": ".r",
   "mimetype": "text/x-r-source",
   "name": "R",
   "pygments_lexer": "r",
   "version": "4.0.3"
  }
 },
 "nbformat": 4,
 "nbformat_minor": 5
}
